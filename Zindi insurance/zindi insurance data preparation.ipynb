{
 "cells": [
  {
   "cell_type": "code",
   "execution_count": 64,
   "metadata": {},
   "outputs": [],
   "source": [
    "import pandas as pd\n",
    "import numpy as np\n",
    "import category_encoders as ce\n",
    "import dtale"
   ]
  },
  {
   "cell_type": "code",
   "execution_count": 73,
   "metadata": {},
   "outputs": [],
   "source": [
    "train=pd.read_csv('/Users/gbeliabel/Downloads/zindi/insurance/Train.csv')\n",
    "test=pd.read_csv('/Users/gbeliabel/Downloads/zindi/insurance/Test.csv')"
   ]
  },
  {
   "cell_type": "code",
   "execution_count": 74,
   "metadata": {},
   "outputs": [],
   "source": [
    "for i in train.columns:\n",
    "    if train[i].dtype=='object':\n",
    "        train[i]=train[i].str.strip()\n",
    "        test[i]=test[i].str.strip()"
   ]
  },
  {
   "cell_type": "code",
   "execution_count": 75,
   "metadata": {},
   "outputs": [],
   "source": [
    "train.loc[~train['Gender'].isin(['Male','Female']),'Gender']='Other'\n",
    "test.loc[~test['Gender'].isin(['Male','Female']),'Gender']='Other'"
   ]
  },
  {
   "cell_type": "code",
   "execution_count": 76,
   "metadata": {},
   "outputs": [],
   "source": [
    "train.loc[(train['Age']<18)|(train['Age']>90),'Age']=40\n",
    "test.loc[(test['Age']<18)|(test['Age']>90),'Age']=40"
   ]
  },
  {
   "cell_type": "code",
   "execution_count": 77,
   "metadata": {},
   "outputs": [
    {
     "data": {
      "text/plain": [
       "array(['Female', 'Male', 'Other'], dtype=object)"
      ]
     },
     "execution_count": 77,
     "metadata": {},
     "output_type": "execute_result"
    }
   ],
   "source": [
    "test['Gender'].unique()"
   ]
  },
  {
   "cell_type": "code",
   "execution_count": 78,
   "metadata": {},
   "outputs": [],
   "source": [
    "train.loc[train['Car_Category']=='Mini Bus','Car_Category']='Bus'\n",
    "train.loc[train['Car_Category']=='Mini Van','Car_Category']='Van'\n",
    "train.loc[train['Car_Category']=='Tipper Truck','Car_Category']='Truck'\n",
    "train['Car_Category']=train['Car_Category'].fillna('unknow')\n",
    "\n",
    "test.loc[test['Car_Category']=='Mini Bus','Car_Category']='Bus'\n",
    "test.loc[test['Car_Category']=='Mini Van','Car_Category']='Van'\n",
    "test.loc[test['Car_Category']=='Tipper Truck','Car_Category']='Truck'\n",
    "test['Car_Category']=test['Car_Category'].fillna('unknow')"
   ]
  },
  {
   "cell_type": "code",
   "execution_count": 79,
   "metadata": {},
   "outputs": [],
   "source": [
    "train['Subject_Car_Make']=train['Subject_Car_Make'].fillna('unknow')\n",
    "test['Subject_Car_Make']=test['Subject_Car_Make'].fillna('unknow')"
   ]
  },
  {
   "cell_type": "code",
   "execution_count": 80,
   "metadata": {},
   "outputs": [],
   "source": [
    "train['LGA_Name']=train['LGA_Name'].fillna('unknow')\n",
    "test['LGA_Name']=test['LGA_Name'].fillna('unknow')\n",
    "\n",
    "train['State']=train['State'].fillna('unknow')\n",
    "test['State']=test['State'].fillna('unknow')"
   ]
  },
  {
   "cell_type": "code",
   "execution_count": 81,
   "metadata": {},
   "outputs": [],
   "source": [
    "train['Policy Start Date']=pd.to_datetime(train['Policy Start Date'])\n",
    "test['Policy Start Date']=pd.to_datetime(test['Policy Start Date'])"
   ]
  },
  {
   "cell_type": "code",
   "execution_count": 82,
   "metadata": {},
   "outputs": [],
   "source": [
    "train['Month']=train['Policy Start Date'].dt.month\n",
    "test['Month']=test['Policy Start Date'].dt.month"
   ]
  },
  {
   "cell_type": "code",
   "execution_count": 83,
   "metadata": {},
   "outputs": [],
   "source": [
    "train['Gender_Car_Category']=train['Gender']+'_'+train['Car_Category']\n",
    "train['Subject_Car_Make_Car_Category']=train['Subject_Car_Make']+'_'+train['Car_Category']\n",
    "train['State_LGA_Name']=train['State']+'_'+train['LGA_Name']\n",
    "train['Gender_ProductName']=train['Gender']+'_'+train['ProductName']\n",
    "train['Car_Category_ProductName']=train['Car_Category']+'_'+train['ProductName']\n",
    "\n",
    "test['Gender_Car_Category']=test['Gender']+'_'+test['Car_Category']\n",
    "test['Subject_Car_Make_Car_Category']=test['Subject_Car_Make']+'_'+test['Car_Category']\n",
    "test['State_LGA_Name']=test['State']+'_'+test['LGA_Name']\n",
    "test['Gender_ProductName']=test['Gender']+'_'+test['ProductName']\n",
    "test['Car_Category_ProductName']=test['Car_Category']+'_'+test['ProductName']"
   ]
  },
  {
   "cell_type": "code",
   "execution_count": 84,
   "metadata": {},
   "outputs": [],
   "source": [
    "onehotcol=['Gender','Car_Category','ProductName']\n",
    "countcol=['Subject_Car_Make','LGA_Name', 'State','Gender_Car_Category',\n",
    "       'Subject_Car_Make_Car_Category', 'State_LGA_Name', 'Gender_ProductName',\n",
    "       'Car_Category_ProductName']"
   ]
  },
  {
   "cell_type": "code",
   "execution_count": 85,
   "metadata": {},
   "outputs": [],
   "source": [
    "onehot_enc=ce.OneHotEncoder(cols=onehotcol,use_cat_names=True)\n",
    "count_enc=ce.CountEncoder(cols=countcol,normalize=True)"
   ]
  },
  {
   "cell_type": "code",
   "execution_count": 86,
   "metadata": {},
   "outputs": [],
   "source": [
    "features=list(train.columns)\n",
    "features.remove('ID')\n",
    "features.remove('Policy Start Date')\n",
    "features.remove('Policy End Date')\n",
    "features.remove('First Transaction Date')\n",
    "features.remove('Subject_Car_Colour')\n",
    "features.remove('target')"
   ]
  },
  {
   "cell_type": "code",
   "execution_count": 87,
   "metadata": {},
   "outputs": [
    {
     "name": "stderr",
     "output_type": "stream",
     "text": [
      "/opt/anaconda3/lib/python3.7/site-packages/category_encoders/utils.py:21: FutureWarning:\n",
      "\n",
      "is_categorical is deprecated and will be removed in a future version.  Use is_categorical_dtype instead\n",
      "\n",
      "/opt/anaconda3/lib/python3.7/site-packages/category_encoders/utils.py:21: FutureWarning:\n",
      "\n",
      "is_categorical is deprecated and will be removed in a future version.  Use is_categorical_dtype instead\n",
      "\n"
     ]
    }
   ],
   "source": [
    "onehot_enc.fit(pd.concat([train[features],test[features]]))\n",
    "X=onehot_enc.transform(train[features])\n",
    "X_test=onehot_enc.transform(test[features])\n",
    "\n",
    "\n",
    "count_enc.fit(pd.concat([X,X_test]))\n",
    "X=count_enc.transform(X)\n",
    "X_test=count_enc.transform(X_test)"
   ]
  },
  {
   "cell_type": "code",
   "execution_count": 89,
   "metadata": {},
   "outputs": [
    {
     "name": "stdout",
     "output_type": "stream",
     "text": [
      "Executing shutdown due to inactivity...\n"
     ]
    },
    {
     "name": "stderr",
     "output_type": "stream",
     "text": [
      "2021-04-24 11:22:41,646 - INFO     - Executing shutdown due to inactivity...\n"
     ]
    },
    {
     "name": "stdout",
     "output_type": "stream",
     "text": [
      "Executing shutdown...\n"
     ]
    },
    {
     "name": "stderr",
     "output_type": "stream",
     "text": [
      "2021-04-24 11:22:41,821 - INFO     - Executing shutdown...\n"
     ]
    }
   ],
   "source": [
    "X.to_csv('train_prepared.csv',index=False)\n",
    "X_test.to_csv('test_prepared.csv',index=False)"
   ]
  },
  {
   "cell_type": "code",
   "execution_count": null,
   "metadata": {},
   "outputs": [],
   "source": []
  },
  {
   "cell_type": "code",
   "execution_count": null,
   "metadata": {},
   "outputs": [],
   "source": []
  },
  {
   "cell_type": "code",
   "execution_count": null,
   "metadata": {},
   "outputs": [],
   "source": []
  },
  {
   "cell_type": "code",
   "execution_count": 34,
   "metadata": {},
   "outputs": [
    {
     "data": {
      "text/plain": [
       "Male      0.630599\n",
       "Female    0.275437\n",
       "Other     0.093965\n",
       "Name: Gender, dtype: float64"
      ]
     },
     "execution_count": 34,
     "metadata": {},
     "output_type": "execute_result"
    }
   ],
   "source": [
    "train['Gender'].value_counts(normalize=True)"
   ]
  },
  {
   "cell_type": "code",
   "execution_count": 35,
   "metadata": {},
   "outputs": [
    {
     "data": {
      "text/plain": [
       "259"
      ]
     },
     "execution_count": 35,
     "metadata": {},
     "output_type": "execute_result"
    }
   ],
   "source": [
    "len(train['LGA_Name'].unique())"
   ]
  },
  {
   "cell_type": "code",
   "execution_count": 36,
   "metadata": {},
   "outputs": [
    {
     "data": {
      "text/plain": [
       "112"
      ]
     },
     "execution_count": 36,
     "metadata": {},
     "output_type": "execute_result"
    }
   ],
   "source": [
    "len(train['State'].unique())"
   ]
  },
  {
   "cell_type": "code",
   "execution_count": 38,
   "metadata": {},
   "outputs": [
    {
     "data": {
      "text/plain": [
       "75"
      ]
     },
     "execution_count": 38,
     "metadata": {},
     "output_type": "execute_result"
    }
   ],
   "source": [
    "len(train['Subject_Car_Make'].unique())"
   ]
  },
  {
   "cell_type": "code",
   "execution_count": 27,
   "metadata": {},
   "outputs": [],
   "source": [
    "explore=dtale.show(train)"
   ]
  },
  {
   "cell_type": "code",
   "execution_count": 12,
   "metadata": {},
   "outputs": [
    {
     "data": {
      "text/plain": [
       "-6099"
      ]
     },
     "execution_count": 12,
     "metadata": {},
     "output_type": "execute_result"
    }
   ],
   "source": [
    "train['Age'].min()"
   ]
  },
  {
   "cell_type": "code",
   "execution_count": 28,
   "metadata": {},
   "outputs": [
    {
     "data": {
      "text/html": [
       "\n",
       "        <iframe\n",
       "            width=\"100%\"\n",
       "            height=\"475\"\n",
       "            src=\"http://MacBook-Pro-de-GBELI.local:40000/dtale/iframe/4\"\n",
       "            frameborder=\"0\"\n",
       "            allowfullscreen\n",
       "        ></iframe>\n",
       "        "
      ],
      "text/plain": [
       "<IPython.lib.display.IFrame at 0x7fee1af2f750>"
      ]
     },
     "metadata": {},
     "output_type": "display_data"
    },
    {
     "data": {
      "text/plain": []
     },
     "execution_count": 28,
     "metadata": {},
     "output_type": "execute_result"
    },
    {
     "name": "stderr",
     "output_type": "stream",
     "text": [
      "/opt/anaconda3/lib/python3.7/site-packages/dtale/describe.py:14: FutureWarning:\n",
      "\n",
      "Treating datetime data as categorical rather than numeric in `.describe` is deprecated and will be removed in a future version of pandas. Specify `datetime_is_numeric=True` to silence this warning and adopt the future behavior now.\n",
      "\n"
     ]
    }
   ],
   "source": [
    "explore"
   ]
  },
  {
   "cell_type": "code",
   "execution_count": null,
   "metadata": {},
   "outputs": [],
   "source": []
  },
  {
   "cell_type": "code",
   "execution_count": null,
   "metadata": {},
   "outputs": [],
   "source": []
  },
  {
   "cell_type": "code",
   "execution_count": null,
   "metadata": {},
   "outputs": [],
   "source": []
  },
  {
   "cell_type": "code",
   "execution_count": null,
   "metadata": {},
   "outputs": [],
   "source": []
  },
  {
   "cell_type": "code",
   "execution_count": null,
   "metadata": {},
   "outputs": [],
   "source": []
  }
 ],
 "metadata": {
  "kernelspec": {
   "display_name": "Python 3",
   "language": "python",
   "name": "python3"
  },
  "language_info": {
   "codemirror_mode": {
    "name": "ipython",
    "version": 3
   },
   "file_extension": ".py",
   "mimetype": "text/x-python",
   "name": "python",
   "nbconvert_exporter": "python",
   "pygments_lexer": "ipython3",
   "version": "3.7.6"
  }
 },
 "nbformat": 4,
 "nbformat_minor": 4
}
