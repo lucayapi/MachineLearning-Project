{
 "cells": [
  {
   "cell_type": "code",
   "execution_count": 1,
   "metadata": {},
   "outputs": [],
   "source": [
    "import pandas as pd\n",
    "import numpy as np\n",
    "from sklearn.model_selection import StratifiedKFold\n",
    "from sklearn.neighbors import KNeighborsClassifier,RadiusNeighborsClassifier\n",
    "from sklearn.metrics import f1_score,accuracy_score,confusion_matrix\n",
    "from sklearn.svm import  LinearSVC,SVC\n",
    "from sklearn.naive_bayes import GaussianNB,MultinomialNB\n",
    "from sklearn.tree import DecisionTreeClassifier\n",
    "from sklearn.ensemble import ExtraTreesClassifier, RandomForestClassifier"
   ]
  },
  {
   "cell_type": "code",
   "execution_count": 2,
   "metadata": {},
   "outputs": [],
   "source": [
    "train=pd.read_csv('/Users/gbeliabel/Downloads/zindi/insurance/Train.csv')\n",
    "test=pd.read_csv('/Users/gbeliabel/Downloads/zindi/insurance/Test.csv')\n",
    "submission=pd.read_csv('/Users/gbeliabel/Downloads/zindi/insurance/SampleSubmission.csv')\n",
    "X=pd.read_csv('train_prepared.csv')\n",
    "X_test=pd.read_csv('test_prepared.csv')\n",
    "y=train.target"
   ]
  },
  {
   "cell_type": "code",
   "execution_count": 3,
   "metadata": {},
   "outputs": [],
   "source": [
    "skf=StratifiedKFold(n_splits=10,shuffle=True,random_state=2021)"
   ]
  },
  {
   "cell_type": "code",
   "execution_count": 27,
   "metadata": {},
   "outputs": [
    {
     "name": "stdout",
     "output_type": "stream",
     "text": [
      "0.2253243422170561 0.017484636641128752\n",
      "0.22310473719722493 0.017251467713887088\n",
      "0.2221528016605673 0.017089146256298395\n",
      "0.22188541083660612 0.016977025458213793\n"
     ]
    }
   ],
   "source": [
    "score=[]\n",
    "for r in [50,75,100,150]:\n",
    "    #knn=KNeighborsClassifier(n_neighbors=k)\n",
    "    rnn=RadiusNeighborsClassifier(r,weights='distance')\n",
    "    for train_index,test_index in skf.split(X,y):\n",
    "        x_train,x_val=X.loc[train_index,:],X.loc[test_index,:]\n",
    "        y_train,y_val=y.iloc[train_index],y.iloc[test_index]\n",
    "\n",
    "        n=y_train[y_train==0].shape[0]-y_train[y_train==1].shape[0]\n",
    "        np.random.seed(2021)\n",
    "        idx=np.random.choice(list(y_train[y_train==1].index),size=n)\n",
    "        x_train=pd.concat([x_train,x_train.loc[idx]])\n",
    "        y_train=y_train.append(y_train.loc[idx])\n",
    "\n",
    "        rnn.fit(x_train,y_train)\n",
    "        y_pred=rnn.predict(x_val)\n",
    "        score.append(f1_score(y_val,y_pred))\n",
    "    print(np.mean(score),np.std(score))"
   ]
  },
  {
   "cell_type": "code",
   "execution_count": 34,
   "metadata": {},
   "outputs": [
    {
     "name": "stdout",
     "output_type": "stream",
     "text": [
      "0.23507346173604513 0.014177379096738097\n"
     ]
    }
   ],
   "source": [
    "score=[]\n",
    "#for c in [.1,.25,.5,.75]:\n",
    "lsvc=SVC(kernel='poly')\n",
    "for train_index,test_index in skf.split(X,y):\n",
    "    x_train,x_val=X.loc[train_index,:],X.loc[test_index,:]\n",
    "    y_train,y_val=y.iloc[train_index],y.iloc[test_index]\n",
    "\n",
    "    n=y_train[y_train==0].shape[0]-y_train[y_train==1].shape[0]\n",
    "    np.random.seed(2021)\n",
    "    idx=np.random.choice(list(y_train[y_train==1].index),size=n)\n",
    "    x_train=pd.concat([x_train,x_train.loc[idx]])\n",
    "    y_train=y_train.append(y_train.loc[idx])\n",
    "\n",
    "    lsvc.fit(x_train,y_train)\n",
    "    y_pred=lsvc.predict(x_val)\n",
    "    score.append(f1_score(y_val,y_pred))\n",
    "print(np.mean(score),np.std(score))"
   ]
  },
  {
   "cell_type": "code",
   "execution_count": 5,
   "metadata": {},
   "outputs": [
    {
     "ename": "ValueError",
     "evalue": "Negative values in data passed to MultinomialNB (input X)",
     "output_type": "error",
     "traceback": [
      "\u001b[0;31m---------------------------------------------------------------------------\u001b[0m",
      "\u001b[0;31mValueError\u001b[0m                                Traceback (most recent call last)",
      "\u001b[0;32m<ipython-input-5-4c878b2723ea>\u001b[0m in \u001b[0;36m<module>\u001b[0;34m\u001b[0m\n\u001b[1;32m     13\u001b[0m     \u001b[0my_train\u001b[0m\u001b[0;34m=\u001b[0m\u001b[0my_train\u001b[0m\u001b[0;34m.\u001b[0m\u001b[0mappend\u001b[0m\u001b[0;34m(\u001b[0m\u001b[0my_train\u001b[0m\u001b[0;34m.\u001b[0m\u001b[0mloc\u001b[0m\u001b[0;34m[\u001b[0m\u001b[0midx\u001b[0m\u001b[0;34m]\u001b[0m\u001b[0;34m)\u001b[0m\u001b[0;34m\u001b[0m\u001b[0;34m\u001b[0m\u001b[0m\n\u001b[1;32m     14\u001b[0m \u001b[0;34m\u001b[0m\u001b[0m\n\u001b[0;32m---> 15\u001b[0;31m     \u001b[0mNbayes_mb\u001b[0m\u001b[0;34m.\u001b[0m\u001b[0mfit\u001b[0m\u001b[0;34m(\u001b[0m\u001b[0mx_train\u001b[0m\u001b[0;34m,\u001b[0m\u001b[0my_train\u001b[0m\u001b[0;34m)\u001b[0m\u001b[0;34m\u001b[0m\u001b[0;34m\u001b[0m\u001b[0m\n\u001b[0m\u001b[1;32m     16\u001b[0m     \u001b[0my_pred\u001b[0m\u001b[0;34m=\u001b[0m\u001b[0mNbayes_mb\u001b[0m\u001b[0;34m.\u001b[0m\u001b[0mpredict\u001b[0m\u001b[0;34m(\u001b[0m\u001b[0mx_val\u001b[0m\u001b[0;34m)\u001b[0m\u001b[0;34m\u001b[0m\u001b[0;34m\u001b[0m\u001b[0m\n\u001b[1;32m     17\u001b[0m     \u001b[0mscore\u001b[0m\u001b[0;34m.\u001b[0m\u001b[0mappend\u001b[0m\u001b[0;34m(\u001b[0m\u001b[0mf1_score\u001b[0m\u001b[0;34m(\u001b[0m\u001b[0my_val\u001b[0m\u001b[0;34m,\u001b[0m\u001b[0my_pred\u001b[0m\u001b[0;34m)\u001b[0m\u001b[0;34m)\u001b[0m\u001b[0;34m\u001b[0m\u001b[0;34m\u001b[0m\u001b[0m\n",
      "\u001b[0;32m/opt/anaconda3/lib/python3.7/site-packages/sklearn/naive_bayes.py\u001b[0m in \u001b[0;36mfit\u001b[0;34m(self, X, y, sample_weight)\u001b[0m\n\u001b[1;32m    633\u001b[0m \u001b[0;34m\u001b[0m\u001b[0m\n\u001b[1;32m    634\u001b[0m         \u001b[0mself\u001b[0m\u001b[0;34m.\u001b[0m\u001b[0m_init_counters\u001b[0m\u001b[0;34m(\u001b[0m\u001b[0mn_effective_classes\u001b[0m\u001b[0;34m,\u001b[0m \u001b[0mn_features\u001b[0m\u001b[0;34m)\u001b[0m\u001b[0;34m\u001b[0m\u001b[0;34m\u001b[0m\u001b[0m\n\u001b[0;32m--> 635\u001b[0;31m         \u001b[0mself\u001b[0m\u001b[0;34m.\u001b[0m\u001b[0m_count\u001b[0m\u001b[0;34m(\u001b[0m\u001b[0mX\u001b[0m\u001b[0;34m,\u001b[0m \u001b[0mY\u001b[0m\u001b[0;34m)\u001b[0m\u001b[0;34m\u001b[0m\u001b[0;34m\u001b[0m\u001b[0m\n\u001b[0m\u001b[1;32m    636\u001b[0m         \u001b[0malpha\u001b[0m \u001b[0;34m=\u001b[0m \u001b[0mself\u001b[0m\u001b[0;34m.\u001b[0m\u001b[0m_check_alpha\u001b[0m\u001b[0;34m(\u001b[0m\u001b[0;34m)\u001b[0m\u001b[0;34m\u001b[0m\u001b[0;34m\u001b[0m\u001b[0m\n\u001b[1;32m    637\u001b[0m         \u001b[0mself\u001b[0m\u001b[0;34m.\u001b[0m\u001b[0m_update_feature_log_prob\u001b[0m\u001b[0;34m(\u001b[0m\u001b[0malpha\u001b[0m\u001b[0;34m)\u001b[0m\u001b[0;34m\u001b[0m\u001b[0;34m\u001b[0m\u001b[0m\n",
      "\u001b[0;32m/opt/anaconda3/lib/python3.7/site-packages/sklearn/naive_bayes.py\u001b[0m in \u001b[0;36m_count\u001b[0;34m(self, X, Y)\u001b[0m\n\u001b[1;32m    754\u001b[0m     \u001b[0;32mdef\u001b[0m \u001b[0m_count\u001b[0m\u001b[0;34m(\u001b[0m\u001b[0mself\u001b[0m\u001b[0;34m,\u001b[0m \u001b[0mX\u001b[0m\u001b[0;34m,\u001b[0m \u001b[0mY\u001b[0m\u001b[0;34m)\u001b[0m\u001b[0;34m:\u001b[0m\u001b[0;34m\u001b[0m\u001b[0;34m\u001b[0m\u001b[0m\n\u001b[1;32m    755\u001b[0m         \u001b[0;34m\"\"\"Count and smooth feature occurrences.\"\"\"\u001b[0m\u001b[0;34m\u001b[0m\u001b[0;34m\u001b[0m\u001b[0m\n\u001b[0;32m--> 756\u001b[0;31m         \u001b[0mcheck_non_negative\u001b[0m\u001b[0;34m(\u001b[0m\u001b[0mX\u001b[0m\u001b[0;34m,\u001b[0m \u001b[0;34m\"MultinomialNB (input X)\"\u001b[0m\u001b[0;34m)\u001b[0m\u001b[0;34m\u001b[0m\u001b[0;34m\u001b[0m\u001b[0m\n\u001b[0m\u001b[1;32m    757\u001b[0m         \u001b[0mself\u001b[0m\u001b[0;34m.\u001b[0m\u001b[0mfeature_count_\u001b[0m \u001b[0;34m+=\u001b[0m \u001b[0msafe_sparse_dot\u001b[0m\u001b[0;34m(\u001b[0m\u001b[0mY\u001b[0m\u001b[0;34m.\u001b[0m\u001b[0mT\u001b[0m\u001b[0;34m,\u001b[0m \u001b[0mX\u001b[0m\u001b[0;34m)\u001b[0m\u001b[0;34m\u001b[0m\u001b[0;34m\u001b[0m\u001b[0m\n\u001b[1;32m    758\u001b[0m         \u001b[0mself\u001b[0m\u001b[0;34m.\u001b[0m\u001b[0mclass_count_\u001b[0m \u001b[0;34m+=\u001b[0m \u001b[0mY\u001b[0m\u001b[0;34m.\u001b[0m\u001b[0msum\u001b[0m\u001b[0;34m(\u001b[0m\u001b[0maxis\u001b[0m\u001b[0;34m=\u001b[0m\u001b[0;36m0\u001b[0m\u001b[0;34m)\u001b[0m\u001b[0;34m\u001b[0m\u001b[0;34m\u001b[0m\u001b[0m\n",
      "\u001b[0;32m/opt/anaconda3/lib/python3.7/site-packages/sklearn/utils/validation.py\u001b[0m in \u001b[0;36mcheck_non_negative\u001b[0;34m(X, whom)\u001b[0m\n\u001b[1;32m    992\u001b[0m \u001b[0;34m\u001b[0m\u001b[0m\n\u001b[1;32m    993\u001b[0m     \u001b[0;32mif\u001b[0m \u001b[0mX_min\u001b[0m \u001b[0;34m<\u001b[0m \u001b[0;36m0\u001b[0m\u001b[0;34m:\u001b[0m\u001b[0;34m\u001b[0m\u001b[0;34m\u001b[0m\u001b[0m\n\u001b[0;32m--> 994\u001b[0;31m         \u001b[0;32mraise\u001b[0m \u001b[0mValueError\u001b[0m\u001b[0;34m(\u001b[0m\u001b[0;34m\"Negative values in data passed to %s\"\u001b[0m \u001b[0;34m%\u001b[0m \u001b[0mwhom\u001b[0m\u001b[0;34m)\u001b[0m\u001b[0;34m\u001b[0m\u001b[0;34m\u001b[0m\u001b[0m\n\u001b[0m\u001b[1;32m    995\u001b[0m \u001b[0;34m\u001b[0m\u001b[0m\n\u001b[1;32m    996\u001b[0m \u001b[0;34m\u001b[0m\u001b[0m\n",
      "\u001b[0;31mValueError\u001b[0m: Negative values in data passed to MultinomialNB (input X)"
     ]
    }
   ],
   "source": [
    "\n",
    "score=[]\n",
    "#for c in [.1,.25,.5,.75]:\n",
    "Nbayes=GaussianNB()\n",
    "Nbayes_mb=MultinomialNB()\n",
    "for train_index,test_index in skf.split(X,y):\n",
    "    x_train,x_val=X.loc[train_index,:],X.loc[test_index,:]\n",
    "    y_train,y_val=y.iloc[train_index],y.iloc[test_index]\n",
    "\n",
    "    n=y_train[y_train==0].shape[0]-y_train[y_train==1].shape[0]\n",
    "    np.random.seed(2021)\n",
    "    idx=np.random.choice(list(y_train[y_train==1].index),size=n)\n",
    "    x_train=pd.concat([x_train,x_train.loc[idx]])\n",
    "    y_train=y_train.append(y_train.loc[idx])\n",
    "\n",
    "    Nbayes.fit(x_train,y_train)\n",
    "    y_pred=Nbayes.predict(x_val)\n",
    "    score.append(f1_score(y_val,y_pred))\n",
    "print(np.mean(score),np.std(score))"
   ]
  },
  {
   "cell_type": "code",
   "execution_count": 42,
   "metadata": {},
   "outputs": [
    {
     "name": "stdout",
     "output_type": "stream",
     "text": [
      "0.35473753391663926 0.01729488487161543\n"
     ]
    }
   ],
   "source": [
    "\n",
    "score=[]\n",
    "#for c in [.1,.25,.5,.75]:\n",
    "tree_cl=DecisionTreeClassifier(max_depth=10)\n",
    "for train_index,test_index in skf.split(X,y):\n",
    "    x_train,x_val=X.loc[train_index,:],X.loc[test_index,:]\n",
    "    y_train,y_val=y.iloc[train_index],y.iloc[test_index]\n",
    "\n",
    "    n=y_train[y_train==0].shape[0]-y_train[y_train==1].shape[0]\n",
    "    np.random.seed(2021)\n",
    "    idx=np.random.choice(list(y_train[y_train==1].index),size=n)\n",
    "    x_train=pd.concat([x_train,x_train.loc[idx]])\n",
    "    y_train=y_train.append(y_train.loc[idx])\n",
    "\n",
    "    tree_cl.fit(x_train,y_train)\n",
    "    y_pred=tree_cl.predict(x_val)\n",
    "    score.append(f1_score(y_val,y_pred))\n",
    "print(np.mean(score),np.std(score))"
   ]
  },
  {
   "cell_type": "code",
   "execution_count": 45,
   "metadata": {},
   "outputs": [
    {
     "name": "stdout",
     "output_type": "stream",
     "text": [
      "random forest:  0.3809541294836438 0.021389035120942035\n",
      "extra random forest:  0.36248282500610973 0.015234022068623584\n"
     ]
    }
   ],
   "source": [
    "\n",
    "scoreRF=[]\n",
    "scoreExtra=[]\n",
    "#for c in [.1,.25,.5,.75]:\n",
    "extraRf=ExtraTreesClassifier(max_depth=10,random_state=2021)\n",
    "Rf=RandomForestClassifier(max_depth=10,random_state=2021)\n",
    "for train_index,test_index in skf.split(X,y):\n",
    "    x_train,x_val=X.loc[train_index,:],X.loc[test_index,:]\n",
    "    y_train,y_val=y.iloc[train_index],y.iloc[test_index]\n",
    "\n",
    "    n=y_train[y_train==0].shape[0]-y_train[y_train==1].shape[0]\n",
    "    np.random.seed(2021)\n",
    "    idx=np.random.choice(list(y_train[y_train==1].index),size=n)\n",
    "    x_train=pd.concat([x_train,x_train.loc[idx]])\n",
    "    y_train=y_train.append(y_train.loc[idx])\n",
    "\n",
    "    Rf.fit(x_train,y_train)\n",
    "    y_pred=Rf.predict(x_val)\n",
    "    score.append(f1_score(y_val,y_pred))\n",
    "    \n",
    "    extraRf.fit(x_train,y_train)\n",
    "    y_pred=extraRf.predict(x_val)\n",
    "    scoreExtra.append(f1_score(y_val,y_pred))\n",
    "    \n",
    "    \n",
    "print('random forest: ',np.mean(score),np.std(score))\n",
    "print('extra random forest: ',np.mean(scoreExtra),np.std(scoreExtra))"
   ]
  },
  {
   "cell_type": "code",
   "execution_count": 6,
   "metadata": {},
   "outputs": [],
   "source": [
    "from sklearn.model_selection import GridSearchCV"
   ]
  },
  {
   "cell_type": "code",
   "execution_count": 8,
   "metadata": {},
   "outputs": [
    {
     "data": {
      "text/plain": [
       "GridSearchCV(cv=10, error_score=nan,\n",
       "             estimator=KNeighborsClassifier(algorithm='auto', leaf_size=30,\n",
       "                                            metric='minkowski',\n",
       "                                            metric_params=None, n_jobs=None,\n",
       "                                            n_neighbors=5, p=2,\n",
       "                                            weights='uniform'),\n",
       "             iid='deprecated', n_jobs=None,\n",
       "             param_grid={'n_neighbors': [5, 10, 15, 20]},\n",
       "             pre_dispatch='2*n_jobs', refit=True, return_train_score=False,\n",
       "             scoring='f1', verbose=0)"
      ]
     },
     "execution_count": 8,
     "metadata": {},
     "output_type": "execute_result"
    }
   ],
   "source": [
    "grid_search=GridSearchCV(knn,{'n_neighbors':[5,10,15,20]},\n",
    "                         scoring='f1',cv=10)\n",
    "grid_search.fit(X,y)"
   ]
  },
  {
   "cell_type": "code",
   "execution_count": 9,
   "metadata": {},
   "outputs": [
    {
     "data": {
      "text/plain": [
       "{'n_neighbors': 5}"
      ]
     },
     "execution_count": 9,
     "metadata": {},
     "output_type": "execute_result"
    }
   ],
   "source": [
    "grid_search.best_params_"
   ]
  },
  {
   "cell_type": "code",
   "execution_count": 10,
   "metadata": {},
   "outputs": [
    {
     "data": {
      "text/plain": [
       "0.19742018342347553"
      ]
     },
     "execution_count": 10,
     "metadata": {},
     "output_type": "execute_result"
    }
   ],
   "source": [
    "grid_search.best_score_"
   ]
  },
  {
   "cell_type": "code",
   "execution_count": null,
   "metadata": {},
   "outputs": [],
   "source": []
  }
 ],
 "metadata": {
  "kernelspec": {
   "display_name": "Python 3",
   "language": "python",
   "name": "python3"
  },
  "language_info": {
   "codemirror_mode": {
    "name": "ipython",
    "version": 3
   },
   "file_extension": ".py",
   "mimetype": "text/x-python",
   "name": "python",
   "nbconvert_exporter": "python",
   "pygments_lexer": "ipython3",
   "version": "3.7.6"
  }
 },
 "nbformat": 4,
 "nbformat_minor": 4
}
